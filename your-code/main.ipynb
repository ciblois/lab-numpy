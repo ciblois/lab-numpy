{
 "cells": [
  {
   "cell_type": "markdown",
   "metadata": {},
   "source": [
    "# Intrduction to NumPy\n",
    "\n",
    "\n",
    "#### 1. Import NumPy under the name np."
   ]
  },
  {
   "cell_type": "code",
   "execution_count": 375,
   "metadata": {},
   "outputs": [],
   "source": [
    "# your code here\n",
    "import numpy as np"
   ]
  },
  {
   "cell_type": "markdown",
   "metadata": {},
   "source": [
    "#### 2. Print your NumPy version."
   ]
  },
  {
   "cell_type": "code",
   "execution_count": 376,
   "metadata": {},
   "outputs": [
    {
     "output_type": "stream",
     "name": "stdout",
     "text": [
      "1.18.5\n"
     ]
    }
   ],
   "source": [
    "# your code here\n",
    "#np.version.version\n",
    "print(np.__version__)"
   ]
  },
  {
   "cell_type": "markdown",
   "metadata": {},
   "source": [
    "#### 3. Generate a 2x3x5 3-dimensional array with random values. Assign the array to variable *a*.\n",
    "**Challenge**: there are at least three easy ways that use numpy to generate random arrays. How many ways can you find?"
   ]
  },
  {
   "cell_type": "code",
   "execution_count": 377,
   "metadata": {},
   "outputs": [],
   "source": [
    "# Method 1\n",
    "\"\"\"This created an array with 2 groups of 3 x 5 matrices.\"\"\"\n",
    "a = np.random.randint(100, size=(2,3,5))\n",
    "#print(a.shape)"
   ]
  },
  {
   "cell_type": "code",
   "execution_count": 378,
   "metadata": {},
   "outputs": [],
   "source": [
    "# Method 2\n",
    "a = np.random.rand(2,3,5)\n",
    "#print(a.shape)"
   ]
  },
  {
   "cell_type": "code",
   "execution_count": 379,
   "metadata": {},
   "outputs": [],
   "source": [
    "# Method 3\n",
    "#import random\n",
    "#lst_lst = []\n",
    "#for i in range(0,3):\n",
    "#    lst = []\n",
    "#    lst_lst.append(lst)\n",
    "#    for j in range(0,5):\n",
    "#        lst.append(random.randint(0,100))\n",
    "#print(lst_lst)\n",
    "\n",
    "#a = np.array(lst_lst)\n",
    "#print(a)\n",
    "#print(a.shape)\n",
    "a = np.random.randint(low = 0, high = 100, size = (2,3,5))\n",
    "#print(a.shape)"
   ]
  },
  {
   "cell_type": "markdown",
   "metadata": {},
   "source": [
    "#### 4. Print *a*.\n"
   ]
  },
  {
   "cell_type": "code",
   "execution_count": 380,
   "metadata": {},
   "outputs": [
    {
     "output_type": "stream",
     "name": "stdout",
     "text": [
      "[[[12 88 61  8 53]\n  [12 46 10 22 65]\n  [84 17 61 47 58]]\n\n [[76  4 57 22 92]\n  [44 17 90 19 96]\n  [15 47 65 59 40]]]\n"
     ]
    }
   ],
   "source": [
    "# your code here\n",
    "print(a)"
   ]
  },
  {
   "cell_type": "markdown",
   "metadata": {},
   "source": [
    "#### 5. Create a 5x2x3 3-dimensional array with all values equaling 1. Assign the array to variable *b*."
   ]
  },
  {
   "cell_type": "code",
   "execution_count": 381,
   "metadata": {},
   "outputs": [
    {
     "output_type": "execute_result",
     "data": {
      "text/plain": [
       "'Using np.full to solve. This form is more general because allow you to build with any  value (not only 1)'"
      ]
     },
     "metadata": {},
     "execution_count": 381
    }
   ],
   "source": [
    "# your code here\n",
    "\"\"\"Using list to solve the problem, then change list -> array\"\"\"\n",
    "#import random\n",
    "#lst_lstb = []\n",
    "#for i in range(0,3):\n",
    "#    lstb = []\n",
    "#    lst_lstb.append(lstb)\n",
    "#    for j in range(0,5):\n",
    "#        lstb.append(1)\n",
    "#print(lst_lstb)\n",
    "\n",
    "#b = np.array(lst_lstb)\n",
    "\n",
    "\"\"\"Using np.ones to solve the problem\"\"\"\n",
    "b = np.ones((5,2,3), dtype=np.int16)\n",
    "\n",
    "\"\"\"Using np.full to solve. This form is more general because allow you to build with any  value (not only 1)\"\"\"\n",
    "#b = np.full(shape=(5,2,3),fill_value=1)"
   ]
  },
  {
   "cell_type": "markdown",
   "metadata": {},
   "source": [
    "#### 6. Print *b*.\n"
   ]
  },
  {
   "cell_type": "code",
   "execution_count": 382,
   "metadata": {},
   "outputs": [
    {
     "output_type": "stream",
     "name": "stdout",
     "text": [
      "[[[1 1 1]\n  [1 1 1]]\n\n [[1 1 1]\n  [1 1 1]]\n\n [[1 1 1]\n  [1 1 1]]\n\n [[1 1 1]\n  [1 1 1]]\n\n [[1 1 1]\n  [1 1 1]]]\n"
     ]
    }
   ],
   "source": [
    "# your code here\n",
    "print(b)"
   ]
  },
  {
   "cell_type": "markdown",
   "metadata": {},
   "source": [
    "#### 7. Do *a* and *b* have the same size? How do you prove that in Python code?"
   ]
  },
  {
   "cell_type": "code",
   "execution_count": 383,
   "metadata": {},
   "outputs": [
    {
     "output_type": "stream",
     "name": "stdout",
     "text": [
      "They have the same amount of elements.\n"
     ]
    }
   ],
   "source": [
    "# your code here\n",
    "if a.size == b.size:\n",
    "    print(\"They have the same amount of elements.\")\n",
    "else:\n",
    "    print(\"They don't have the same amount of elements.\")"
   ]
  },
  {
   "cell_type": "markdown",
   "metadata": {},
   "source": [
    "#### 8. Are you able to add *a* and *b*? Why or why not?\n"
   ]
  },
  {
   "cell_type": "code",
   "execution_count": 384,
   "metadata": {},
   "outputs": [
    {
     "output_type": "stream",
     "name": "stdout",
     "text": [
      "(2, 3, 5)\n(5, 2, 3)\n"
     ]
    },
    {
     "output_type": "error",
     "ename": "ValueError",
     "evalue": "operands could not be broadcast together with shapes (2,3,5) (5,2,3) ",
     "traceback": [
      "\u001b[1;31m---------------------------------------------------------------------------\u001b[0m",
      "\u001b[1;31mValueError\u001b[0m                                Traceback (most recent call last)",
      "\u001b[1;32m<ipython-input-384-44366aaba1d1>\u001b[0m in \u001b[0;36m<module>\u001b[1;34m\u001b[0m\n\u001b[0;32m      3\u001b[0m \u001b[0mprint\u001b[0m\u001b[1;33m(\u001b[0m\u001b[0ma\u001b[0m\u001b[1;33m.\u001b[0m\u001b[0mshape\u001b[0m\u001b[1;33m)\u001b[0m\u001b[1;33m\u001b[0m\u001b[1;33m\u001b[0m\u001b[0m\n\u001b[0;32m      4\u001b[0m \u001b[0mprint\u001b[0m\u001b[1;33m(\u001b[0m\u001b[0mb\u001b[0m\u001b[1;33m.\u001b[0m\u001b[0mshape\u001b[0m\u001b[1;33m)\u001b[0m\u001b[1;33m\u001b[0m\u001b[1;33m\u001b[0m\u001b[0m\n\u001b[1;32m----> 5\u001b[1;33m \u001b[0mprint\u001b[0m\u001b[1;33m(\u001b[0m\u001b[0mnp\u001b[0m\u001b[1;33m.\u001b[0m\u001b[0madd\u001b[0m\u001b[1;33m(\u001b[0m\u001b[0ma\u001b[0m\u001b[1;33m,\u001b[0m \u001b[0mb\u001b[0m\u001b[1;33m)\u001b[0m\u001b[1;33m)\u001b[0m\u001b[1;33m\u001b[0m\u001b[1;33m\u001b[0m\u001b[0m\n\u001b[0m\u001b[0;32m      6\u001b[0m \u001b[1;34m\"\"\"Why not?\"\"\"\u001b[0m\u001b[1;33m\u001b[0m\u001b[1;33m\u001b[0m\u001b[0m\n\u001b[0;32m      7\u001b[0m \u001b[1;31m#They don't have the same shape. numpy.add() function is used when we want to compute the addition of two array. It add arguments element-wise. If shape of two arrays are not same, that is arr1.shape != arr2.shape, they must be broadcastable to a common shape (which may be the shape of one or the other).\u001b[0m\u001b[1;33m\u001b[0m\u001b[1;33m\u001b[0m\u001b[1;33m\u001b[0m\u001b[0m\n",
      "\u001b[1;31mValueError\u001b[0m: operands could not be broadcast together with shapes (2,3,5) (5,2,3) "
     ]
    }
   ],
   "source": [
    "# your answer here\n",
    "\"\"\"a = [2,3,5] and b = [5,2,3]\"\"\"\n",
    "print(a.shape)\n",
    "print(b.shape)\n",
    "print(np.add(a, b))\n",
    "\"\"\"Why not?\"\"\"\n",
    "#They don't have the same shape. numpy.add() function is used when we want to compute the addition of two array. It add arguments element-wise. If shape of two arrays are not same, that is arr1.shape != arr2.shape, they must be broadcastable to a common shape (which may be the shape of one or the other)."
   ]
  },
  {
   "cell_type": "markdown",
   "metadata": {},
   "source": [
    "#### 9. Transpose *b* so that it has the same structure of *a* (i.e. become a 2x3x5 array). Assign the transposed array to variable *c*."
   ]
  },
  {
   "cell_type": "code",
   "execution_count": 342,
   "metadata": {},
   "outputs": [],
   "source": [
    "# your code here\n",
    "\"\"\"This method do the transposed matrix\"\"\"\n",
    "c = b.T \n",
    "#print(c)\n",
    "#print(b.shape)\n",
    "#print(c.shape)\n",
    "\"\"\"\n",
    "This method reshape the matrix\n",
    "Reshaping means changing the shape of an array.\n",
    "Reshape works as long as the elements required for reshaping are equal in both shapes.\n",
    "\n",
    "\"\"\"\n",
    "c = b.reshape(2,3,5)\n",
    "#print(b)\n",
    "#print(c)\n",
    "#print(c.shape)"
   ]
  },
  {
   "cell_type": "markdown",
   "metadata": {},
   "source": [
    "#### 10. Try to add *a* and *c*. Now it should work. Assign the sum to variable *d*. But why does it work now?"
   ]
  },
  {
   "cell_type": "code",
   "execution_count": 269,
   "metadata": {},
   "outputs": [
    {
     "output_type": "stream",
     "name": "stdout",
     "text": [
      "(2, 3, 5)\n(2, 3, 5)\n"
     ]
    }
   ],
   "source": [
    "# your code/answer here\n",
    "d = np.add(a,c)\n",
    "#print(d)\n",
    "print(a.shape)\n",
    "print(c.shape)\n",
    "#Works because they have the same shape."
   ]
  },
  {
   "cell_type": "markdown",
   "metadata": {},
   "source": [
    "#### 11. Print *a* and *d*. Notice the difference and relation of the two array in terms of the values? Explain."
   ]
  },
  {
   "cell_type": "code",
   "execution_count": 387,
   "metadata": {},
   "outputs": [
    {
     "output_type": "stream",
     "name": "stdout",
     "text": [
      "a:  [[[12 88 61  8 53]\n  [12 46 10 22 65]\n  [84 17 61 47 58]]\n\n [[76  4 57 22 92]\n  [44 17 90 19 96]\n  [15 47 65 59 40]]]\nd:  [[[74 12 85 68 32]\n  [16 28 57 73 58]\n  [28 91 38 80 44]]\n\n [[30  4 62  8 87]\n  [38 45 66 33 30]\n  [29 29 16 26 85]]]\n"
     ]
    },
    {
     "output_type": "execute_result",
     "data": {
      "text/plain": [
       "'The method np.add sum the element of matrix c into matrix a, in this case d = a + 1'"
      ]
     },
     "metadata": {},
     "execution_count": 387
    }
   ],
   "source": [
    "# your code/answer here\n",
    "print(\"a: \",a)\n",
    "print(\"d: \", d)\n",
    "\"The method np.add sum the element of matrix c into matrix a, in this case d = a + 1\""
   ]
  },
  {
   "cell_type": "markdown",
   "metadata": {},
   "source": [
    "#### 12. Multiply *a* and *c*. Assign the result to *e*."
   ]
  },
  {
   "cell_type": "code",
   "execution_count": 344,
   "metadata": {},
   "outputs": [
    {
     "output_type": "stream",
     "name": "stdout",
     "text": [
      "[[[84 88  4 94 31]\n  [13 39 80  2 69]\n  [61 45 47 89 37]]\n\n [[54 36 87 11 62]\n  [79 95 43 71 61]\n  [50  2 37 97 73]]]\n"
     ]
    }
   ],
   "source": [
    "# your code here\n",
    "e = a*c\n",
    "print(e)"
   ]
  },
  {
   "cell_type": "markdown",
   "metadata": {},
   "source": [
    "#### 13. Does *e* equal to *a*? Why or why not?\n"
   ]
  },
  {
   "cell_type": "code",
   "execution_count": 345,
   "metadata": {},
   "outputs": [
    {
     "output_type": "execute_result",
     "data": {
      "text/plain": [
       "'Yes. Because matrix c is a unitary matrix. Multiply one number per 1 gives the same number.'"
      ]
     },
     "metadata": {},
     "execution_count": 345
    }
   ],
   "source": [
    "# your code/answer here\n",
    "\"Yes. Because matrix c is a unitary matrix. Multiply one number per 1 gives the same number.\""
   ]
  },
  {
   "cell_type": "markdown",
   "metadata": {},
   "source": [
    "#### 14. Identify the max, min, and mean values in *d*. Assign those values to variables *d_max*, *d_min* and *d_mean*."
   ]
  },
  {
   "cell_type": "code",
   "execution_count": 386,
   "metadata": {},
   "outputs": [
    {
     "output_type": "stream",
     "name": "stdout",
     "text": [
      "Max: 91\nMin: 4\nMean: 45.733333333333334\n"
     ]
    }
   ],
   "source": [
    "# your code here\n",
    "d_max = d.max()\n",
    "print(\"Max:\",d_max)\n",
    "d_min = d.min()\n",
    "print(\"Min:\",d_min)\n",
    "d_mean = d.mean()\n",
    "print(\"Mean:\",d_mean)"
   ]
  },
  {
   "cell_type": "markdown",
   "metadata": {},
   "source": [
    "#### 15. Now we want to label the values in *d*. First create an empty array *f* with the same shape (i.e. 2x3x5) as *d* using `np.empty`.\n"
   ]
  },
  {
   "cell_type": "code",
   "execution_count": 347,
   "metadata": {},
   "outputs": [
    {
     "output_type": "stream",
     "name": "stdout",
     "text": [
      "[[[0 0 0 0 0]\n  [0 0 0 0 0]\n  [0 0 0 0 0]]\n\n [[0 0 0 0 0]\n  [0 0 0 0 0]\n  [0 0 0 0 0]]]\n"
     ]
    }
   ],
   "source": [
    "# your code here\n",
    "f = np.empty((2,3,5), dtype=np.int16)\n",
    "print(f)"
   ]
  },
  {
   "cell_type": "markdown",
   "metadata": {},
   "source": [
    "#### 16. Populate the values in *f*. \n",
    "\n",
    "For each value in *d*, if it's larger than *d_min* but smaller than *d_mean*, assign 25 to the corresponding value in *f*. If a value in *d* is larger than *d_mean* but smaller than *d_max*, assign 75 to the corresponding value in *f*. If a value equals to *d_mean*, assign 50 to the corresponding value in *f*. Assign 0 to the corresponding value(s) in *f* for *d_min* in *d*. Assign 100 to the corresponding value(s) in *f* for *d_max* in *d*. In the end, f should have only the following values: 0, 25, 50, 75, and 100.\n",
    "\n",
    "**Note**: you don't have to use Numpy in this question."
   ]
  },
  {
   "cell_type": "code",
   "execution_count": 390,
   "metadata": {},
   "outputs": [],
   "source": [
    "# your code here\n",
    "#print(d.size)\n",
    "\n",
    "list_d = []\n",
    "\n",
    "for i in d:\n",
    "    for j in i:\n",
    "        for k in j:\n",
    "            if k == d_min:\n",
    "                list_d.append(0)\n",
    "            elif k == d_mean:\n",
    "                list_d.append(50)\n",
    "            elif k == d_max:\n",
    "                list_d.append(100)\n",
    "            elif (k > d_min) & (k < d_mean):\n",
    "                list_d.append(25)\n",
    "            else:\n",
    "                list_d.append(75)\n",
    "f  = np.array(list_d).reshape(2,3,5)"
   ]
  },
  {
   "cell_type": "markdown",
   "metadata": {},
   "source": [
    "#### 17. Print *d* and *f*. Do you have your expected *f*?\n",
    "For instance, if your *d* is:\n",
    "```python\n",
    "[[[1.85836099, 1.67064465, 1.62576044, 1.40243961, 1.88454931],\n",
    "[1.75354326, 1.69403643, 1.36729252, 1.61415071, 1.12104981],\n",
    "[1.72201435, 1.1862918 , 1.87078449, 1.7726778 , 1.88180042]],\n",
    "[[1.44747908, 1.31673383, 1.02000951, 1.52218947, 1.97066381],\n",
    "[1.79129243, 1.74983003, 1.96028037, 1.85166831, 1.65450881],\n",
    "[1.18068344, 1.9587381 , 1.00656599, 1.93402165, 1.73514584]]]\n",
    "```\n",
    "Your *f* should be:\n",
    "```python\n",
    "[[[ 75.,  75.,  75.,  25.,  75.],\n",
    "[ 75.,  75.,  25.,  25.,  25.],\n",
    "[ 75.,  25.,  75.,  75.,  75.]],\n",
    "[[ 25.,  25.,  25.,  25., 100.],\n",
    "[ 75.,  75.,  75.,  75.,  75.],\n",
    "[ 25.,  75.,   0.,  75.,  75.]]]\n",
    "```"
   ]
  },
  {
   "cell_type": "code",
   "execution_count": 391,
   "metadata": {},
   "outputs": [
    {
     "output_type": "stream",
     "name": "stdout",
     "text": [
      "original:  [[[74 12 85 68 32]\n  [16 28 57 73 58]\n  [28 91 38 80 44]]\n\n [[30  4 62  8 87]\n  [38 45 66 33 30]\n  [29 29 16 26 85]]]\nModified: [[[ 75  25  75  75  25]\n  [ 25  25  75  75  75]\n  [ 25 100  25  75  25]]\n\n [[ 25   0  75  25  75]\n  [ 25  25  75  25  25]\n  [ 25  25  25  25  75]]]\n"
     ]
    }
   ],
   "source": [
    "# your code here\n",
    "print(\"original: \",d)\n",
    "\n",
    "print(\"Modified:\",f)\n",
    "\n",
    "#Yes."
   ]
  },
  {
   "cell_type": "markdown",
   "metadata": {},
   "source": [
    "#### 18. Bonus question: instead of using numbers (i.e. 0, 25, 50, 75, and 100), use string values  (\"A\", \"B\", \"C\", \"D\", and \"E\") to label the array elements. For the example above, the expected result is:\n",
    "\n",
    "```python\n",
    "[[[ 'D',  'D',  'D',  'B',  'D'],\n",
    "[ 'D',  'D',  'B',  'B',  'B'],\n",
    "[ 'D',  'B',  'D',  'D',  'D']],\n",
    "[[ 'B',  'B',  'B',  'B',  'E'],\n",
    "[ 'D',  'D',  'D',  'D',  'D'],\n",
    "[ 'B',  'D',   'A',  'D', 'D']]]\n",
    "```\n",
    "**Note**: you don't have to use Numpy in this question."
   ]
  },
  {
   "cell_type": "code",
   "execution_count": 393,
   "metadata": {},
   "outputs": [
    {
     "output_type": "stream",
     "name": "stdout",
     "text": [
      "[[['D' 'B' 'D' 'D' 'B']\n  ['B' 'B' 'D' 'D' 'D']\n  ['B' 'E' 'B' 'D' 'B']]\n\n [['B' 'A' 'D' 'B' 'D']\n  ['B' 'B' 'D' 'B' 'B']\n  ['B' 'B' 'B' 'B' 'D']]]\n"
     ]
    }
   ],
   "source": [
    "# your code here\n",
    "list_d_bonus = []\n",
    "\n",
    "for i in d:\n",
    "    for j in i:\n",
    "        for k in j:\n",
    "            if k == d_min:\n",
    "                list_d_bonus.append(\"A\")\n",
    "            elif k == d_mean:\n",
    "                list_d_bonus.append(\"C\")\n",
    "            elif k == d_max:\n",
    "                list_d_bonus.append(\"E\")\n",
    "            elif (k > d_min) & (k < d_mean):\n",
    "                list_d_bonus.append(\"B\")\n",
    "            else:\n",
    "                list_d_bonus.append(\"D\")\n",
    "f_bonus  = np.array(list_d_bonus).reshape(2,3,5)\n",
    "print(f_bonus)"
   ]
  },
  {
   "cell_type": "code",
   "execution_count": null,
   "metadata": {},
   "outputs": [],
   "source": []
  }
 ],
 "metadata": {
  "kernelspec": {
   "display_name": "Python 3",
   "language": "python",
   "name": "python3"
  },
  "language_info": {
   "codemirror_mode": {
    "name": "ipython",
    "version": 3
   },
   "file_extension": ".py",
   "mimetype": "text/x-python",
   "name": "python",
   "nbconvert_exporter": "python",
   "pygments_lexer": "ipython3",
   "version": "3.8.3-final"
  }
 },
 "nbformat": 4,
 "nbformat_minor": 2
}